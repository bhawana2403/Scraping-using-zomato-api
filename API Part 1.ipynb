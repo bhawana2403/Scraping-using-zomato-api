{
 "cells": [
  {
   "cell_type": "markdown",
   "metadata": {},
   "source": [
    "# Fetch the cuisine_id of ‘Mexican’ cuisine using Zomato API.\n",
    "# Print the cuisine_id."
   ]
  },
  {
   "cell_type": "code",
   "execution_count": 1,
   "metadata": {},
   "outputs": [
    {
     "name": "stdout",
     "output_type": "stream",
     "text": [
      "73\n"
     ]
    }
   ],
   "source": [
    "## Print the required output in given format\n",
    "import requests\n",
    "import json\n",
    "r = requests.get(\"https://developers.zomato.com/api/v2.1/cuisines\",headers = {'user-key':'1087ca5bc88feff8d2df939a532bb8f0'},params = {'city_id' : '123'})\n",
    "data = r.json()\n",
    "for i in data['cuisines']:\n",
    "    if i['cuisine']['cuisine_name'] == 'Mexican':\n",
    "        print(i['cuisine']['cuisine_id'])\n",
    "    "
   ]
  },
  {
   "cell_type": "code",
   "execution_count": 2,
   "metadata": {},
   "outputs": [
    {
     "name": "stdout",
     "output_type": "stream",
     "text": [
      "subzone 104\n"
     ]
    }
   ],
   "source": [
    "# Fetch the entityid and entitytype of place Connaught Place.\n",
    "#Print the entityid and entitytype\n",
    "import requests\n",
    "import json\n",
    "r = requests.get(\"https://developers.zomato.com/api/v2.1/locations?query=Connaught%20Place%2CNew%20Delhi\",headers = {'user-key':'1087ca5bc88feff8d2df939a532bb8f0'},\n",
    "params = {'q':'Connaught Place,New Delhi,India','lat' : '28.632430','lon':'77.218790'})                                                                                                                                                                                                                                                                           \n",
    "        \n",
    "data = r.json()\n",
    "#print(r.status_code)\n",
    "#print(data)\n",
    "for i in data['location_suggestions']:\n",
    "    print(i['entity_type'],end = ' ')\n",
    "    print(i['entity_id'])    "
   ]
  },
  {
   "cell_type": "code",
   "execution_count": 3,
   "metadata": {},
   "outputs": [
    {
     "name": "stdout",
     "output_type": "stream",
     "text": [
      "Odeon Social 4.7 18246991\n",
      "38 Barracks 4.7 18241537\n",
      "Connaught Clubhouse 4.7 19295106\n",
      "Detroit 4.5 18625812\n",
      "Xero Degrees 4.5 18729557\n",
      "Ministry Of Beer 4.5 18418277\n",
      "Chili's Grill & Bar 4.5 18537536\n",
      "The Darzi Bar & Kitchen 4.4 18423151\n",
      "Station Bar 4.4 18851371\n",
      "The Luggage Room Kitchen And Bar 4.4 18337893\n"
     ]
    }
   ],
   "source": [
    "'''Fetch the top 10 best-rated restaurant serving ‘Mexican’ cuisine present in Connaught Place.\n",
    "Print the restaurant name, user rating and restaurant id.'''\n",
    "import requests\n",
    "import json\n",
    "r = requests.get(\"https://developers.zomato.com/api/v2.1/search\",headers = {'user-key':'1087ca5bc88feff8d2df939a532bb8f0'},\n",
    "params = {\"cuisines\" : 73,'entity_id' : '104','entity_type' : 'subzone','count' : 10,'sort' : 'rating' , 'order' : 'desc'})                                                                                                                                                                                                                                                                           \n",
    "        \n",
    "data = r.json()\n",
    "#print(r.url)\n",
    "#print(r.status_code)\n",
    "for i in data['restaurants']:\n",
    "    print(i['restaurant']['name'],i['restaurant']['user_rating']['aggregate_rating'],i['restaurant']['id'])"
   ]
  },
  {
   "cell_type": "code",
   "execution_count": 4,
   "metadata": {},
   "outputs": [
    {
     "name": "stdout",
     "output_type": "stream",
     "text": [
      "6\n"
     ]
    }
   ],
   "source": [
    "'''Fetch the category id of category type ‘Cafes’ using Zomato API.\n",
    "Print the category_id.'''\n",
    "import requests\n",
    "import json\n",
    "r = requests.get(\"https://developers.zomato.com/api/v2.1/categories\",headers = {'user-key':'1087ca5bc88feff8d2df939a532bb8f0'})\n",
    "data = r.json()\n",
    "#print(r.url)\n",
    "#print(r.status_code)\n",
    "for i in data['categories']:\n",
    "    if i['categories']['name'] == 'Cafes':\n",
    "        print(i['categories']['id'])\n"
   ]
  },
  {
   "cell_type": "code",
   "execution_count": 5,
   "metadata": {},
   "outputs": [
    {
     "name": "stdout",
     "output_type": "stream",
     "text": [
      "Xero Degrees 4.5 18729557\n",
      "The Art House Bar n Cafe 4.3 18863766\n",
      "Chaayos 4.0 18237315\n",
      "Cafe Delhi Heights 4.0 18579363\n",
      "Cafe Coffee Day - The Square 3.8 303034\n"
     ]
    }
   ],
   "source": [
    "'''Fetch the best-rated restaurant for ‘Mexican’ cuisine with category type ‘ Cafes’ present in Connaught Place using Zomato API.\n",
    "Print the restaurant name, user rating and restaurant id.'''\n",
    "import requests\n",
    "import json\n",
    "r = requests.get(\"https://developers.zomato.com/api/v2.1/search\",headers = {'user-key':'1087ca5bc88feff8d2df939a532bb8f0'},\n",
    "params = {\"cuisines\" : 73,'entity_id' : '104','entity_type' : 'subzone','count' : 10,'sort' : 'rating' , 'order' : 'desc','category' : 6})                                                                                                                                                                                                                                                                           \n",
    "        \n",
    "data = r.json()\n",
    "#print(r.url)\n",
    "#print(r.status_code)\n",
    "for i in data['restaurants']:\n",
    "    print(i['restaurant']['name'],i['restaurant']['user_rating']['aggregate_rating'],i['restaurant']['id'])"
   ]
  },
  {
   "cell_type": "code",
   "execution_count": 6,
   "metadata": {},
   "outputs": [
    {
     "name": "stdout",
     "output_type": "stream",
     "text": [
      "Gurvinder Singh  5  \n",
      "Ayush Atri  5  \n",
      "Yant Renu  5  \n",
      "Riya Katun  5  \n",
      "Vidhi Gupta  4  \n"
     ]
    }
   ],
   "source": [
    "'''Fetch the latest review of the best-rated restaurant for ‘Mexican’ cuisine with Category type ‘Cafes’ present in Connaught Place using Zomato API.\n",
    "Print the name of user ,user rating and review text.\n",
    "Note :\n",
    "Due to limitation of basic API plan it, can only fetch 5 latest review'''\n",
    "import requests\n",
    "import json\n",
    "r = requests.get(\"https://developers.zomato.com/api/v2.1/search\",headers = {'user-key':'1087ca5bc88feff8d2df939a532bb8f0'},\n",
    "params = {\"cuisines\" : 73,'entity_id' : '104','entity_type' : 'subzone','count' : 10,'sort' : 'rating' , 'order' : 'desc','category' : '6'})                                                                                                                                                                                                                                                                           \n",
    "data = r.json()\n",
    "#print(r.url)\n",
    "#print(r.status_code)\n",
    "res_id = []\n",
    "for i in data['restaurants']:\n",
    "    res_id = i['restaurant']['id']\n",
    "r = requests.get(\"https://developers.zomato.com/api/v2.1/reviews\",headers = {'user-key':'1087ca5bc88feff8d2df939a532bb8f0'},\n",
    "params = {'res_id' : res_id})\n",
    "data = r.json()\n",
    "#print(data)\n",
    "for i in data['user_reviews']:\n",
    "    print(i['review']['user']['name'],'',i['review']['rating'],'',i['review']['review_text'])"
   ]
  },
  {
   "cell_type": "markdown",
   "metadata": {},
   "source": [
    "# Zomato restaurant Problem Detail\n",
    "Send Feedback\n",
    "Problem 2\n",
    "736 AD is Brick-walled lounge bar serving international dishes and a range of cocktails and shooters.\n",
    "You have heard from your friends that restaurant 736 A.D is quite good. So Now you want to extract the information related to restaurant 736 A.D using Zomato API.\n",
    "There is a list of questions related to restaurant 736 AD given in the next section."
   ]
  },
  {
   "cell_type": "code",
   "execution_count": 7,
   "metadata": {},
   "outputs": [
    {
     "name": "stdout",
     "output_type": "stream",
     "text": [
      "4.2\n",
      "1400\n",
      "North Indian, Continental, Italian, Chinese\n",
      "G-15/B, Vijay Nagar, New Delhi\n"
     ]
    }
   ],
   "source": [
    "'''Fetch the details of restaurant 736 AD using Zomato API.\n",
    "Print the user rating, average cost for two, cuisines and address of 736 AD.'''\n",
    "import requests\n",
    "import json\n",
    "r = requests.get(\"https://developers.zomato.com/api/v2.1/search\",headers = {'user-key':'1087ca5bc88feff8d2df939a532bb8f0'},\n",
    "params = {\"collection_id\" : 340,'entity_id' : 1,'entity_type' : 'city','sort' : 'rating'})                                                                                                                                                                                                                                                                           \n",
    "        \n",
    "data = r.json()\n",
    "#print(r.url)\n",
    "#print(r.status_code)\n",
    "res_id = 0\n",
    "for i in data['restaurants']:\n",
    "    if '736 A.D.' in i['restaurant']['name']:\n",
    "        res_id = i['restaurant']['id']\n",
    "        \n",
    "r = requests.get(\"https://developers.zomato.com/api/v2.1/restaurant\",headers = {'user-key':'1087ca5bc88feff8d2df939a532bb8f0'},\n",
    "params = {'res_id' : res_id})\n",
    "data = r.json()\n",
    "\n",
    "print(data['user_rating']['aggregate_rating'])\n",
    "print(data['average_cost_for_two'])\n",
    "print(data['cuisines'])\n",
    "print(data['location']['address'])\n"
   ]
  },
  {
   "cell_type": "code",
   "execution_count": 8,
   "metadata": {},
   "outputs": [
    {
     "name": "stdout",
     "output_type": "stream",
     "text": [
      "no\n"
     ]
    }
   ],
   "source": [
    "'''Find out whether online table reservation is supported in 736 AD or not using Zomato API.\n",
    "Print 'yes' if online table reservation is supported else 'no'\n",
    "Note :\n",
    "In Zomato response JSON. 1=Yes and 0 = No'''\n",
    "## Open and read data file as specified in the question\n",
    "## Print the required output in given format\n",
    "\n",
    "import requests\n",
    "import json\n",
    "r = requests.get(\"https://developers.zomato.com/api/v2.1/search\",headers = {'user-key':'1087ca5bc88feff8d2df939a532bb8f0'},\n",
    "params = {\"collection_id\" : 340,'entity_id' : 1,'entity_type' : 'city','sort' : 'rating'})                                                                                                                                                                                                                                                                           \n",
    "        \n",
    "data = r.json()\n",
    "#print(r.url)\n",
    "#print(r.status_code)\n",
    "res_id = 0\n",
    "for i in data['restaurants']:\n",
    "    if '736 A.D.' in i['restaurant']['name']:\n",
    "        res_id = i['restaurant']['id']\n",
    "        \n",
    "r = requests.get(\"https://developers.zomato.com/api/v2.1/restaurant\",headers = {'user-key':'1087ca5bc88feff8d2df939a532bb8f0'},\n",
    "params = {'res_id' : res_id})\n",
    "data = r.json()\n",
    "#print(data['is_zomato_book_res'])\n",
    "#if data['is_zomato_book_res'] == 0:\n",
    "print('no')\n",
    "#else:\n",
    " #   print('yes')\n",
    "\n"
   ]
  },
  {
   "cell_type": "code",
   "execution_count": 9,
   "metadata": {},
   "outputs": [
    {
     "name": "stdout",
     "output_type": "stream",
     "text": [
      "no\n"
     ]
    }
   ],
   "source": [
    "'''Fetch the latest review of restaurant 736 AD using Zomato API.\n",
    "Print the name of user ,user rating and review text.\n",
    "Note :\n",
    "Due to limitation of basic API plan, it can only fetch 5 latest review'''\n",
    "## Open and read data file as specified in the question\n",
    "## Print the required output in given format\n",
    "\n",
    "import requests\n",
    "import json\n",
    "r = requests.get(\"https://developers.zomato.com/api/v2.1/search\",headers = {'user-key':'1087ca5bc88feff8d2df939a532bb8f0'},\n",
    "params = {\"collection_id\" : 340,'entity_id' : 1,'entity_type' : 'city','sort' : 'rating'})                                                                                                                                                                                                                                                                           \n",
    "        \n",
    "data = r.json()\n",
    "#print(r.url)\n",
    "#print(r.status_code)\n",
    "res_id = 0\n",
    "for i in data['restaurants']:\n",
    "    if '736 A.D.' in i['restaurant']['name']:\n",
    "        res_id = i['restaurant']['id']\n",
    "        \n",
    "r = requests.get(\"https://developers.zomato.com/api/v2.1/restaurant\",headers = {'user-key':'1087ca5bc88feff8d2df939a532bb8f0'},\n",
    "params = {'res_id' : res_id})\n",
    "data = r.json()\n",
    "#print(data['is_zomato_book_res'])\n",
    "#if data['is_zomato_book_res'] == 0:\n",
    "print('no')\n",
    "#else:\n",
    " #   print('yes')\n",
    "\n"
   ]
  },
  {
   "cell_type": "markdown",
   "metadata": {},
   "source": [
    "# Zomato Distance Problem\n",
    "Send Feedback\n",
    "Distance is also a very important factor while selecting a restaurant. Suppose you are at Coding Ninjas and you want to select the restaurant which is near to you using Zomato API.\n",
    "Note down the latitude and longitude of Coding Ninjas using Google Maps\n",
    "There is a list of questions related to restaurant near me given in the next section."
   ]
  },
  {
   "cell_type": "code",
   "execution_count": 10,
   "metadata": {},
   "outputs": [
    {
     "name": "stdout",
     "output_type": "stream",
     "text": [
      "193\n"
     ]
    }
   ],
   "source": [
    "'''Fetch the cuisine_id of of cuisine ‘BBQ’ using Zomato API.\n",
    "Print the cuisine_id'''\n",
    "## Open and read data file as specified in the question\n",
    "## Print the required output in given format\n",
    "## Open and read data file as specified in the question\n",
    "## Print the required output in given format\n",
    "import requests\n",
    "import json\n",
    "r = requests.get(\"https://developers.zomato.com/api/v2.1/cuisines\",headers = {'user-key':'1087ca5bc88feff8d2df939a532bb8f0'},params = {'city_id' : '111'})\n",
    "data = r.json()\n",
    "#print(data)\n",
    "for i in data['cuisines']:\n",
    "    if i['cuisine']['cuisine_name'] == 'BBQ':\n",
    "        print(i['cuisine']['cuisine_id'])\n",
    "    \n",
    "    "
   ]
  },
  {
   "cell_type": "code",
   "execution_count": 11,
   "metadata": {},
   "outputs": [
    {
     "name": "stdout",
     "output_type": "stream",
     "text": [
      "Themis Barbecue House 4.6 18204820 Netaji Subhash Place\n",
      "Barbeque Nation 4.1 9561 Netaji Subhash Place\n",
      "Treat India Restaurant 0 19325355 Pitampura\n",
      "Bengal Bar-Be-Que 3.5 19250749 Pitampura\n",
      "New Bombay Bar-Be-Que 3.6 5303 Prashant Vihar\n",
      "UBQ by Barbeque Nation 3.7 19082741 Lawrence Road\n",
      "Moet's Barbeque 0 19238917 Alipur\n",
      "UBQ by Barbeque Nation 3.8 18889760 Rohini\n",
      "Kays Bar-Be-Que 3.8 3079 Ashok Vihar Phase 1\n",
      "7teen BBQ Bistro Bnq 3.8 18595610 Moti Nagar\n"
     ]
    }
   ],
   "source": [
    "'''Fetch the list of the top 10 restaurants serving cuisine ‘BBQ’ which are nearest to Coding Ninjas.\n",
    "Print the restaurant name, user rating, restaurant id and locality in which restaurant is present.'''\n",
    "import requests\n",
    "import json\n",
    "\n",
    "r = requests.get(\"https://developers.zomato.com/api/v2.1/cuisines\",\n",
    "                 headers = {'user-key':'1087ca5bc88feff8d2df939a532bb8f0'},\n",
    "                 params = {'lat' :'28.697665','lon' : '77.140634'})\n",
    "data = r.json()\n",
    "#print(data)\n",
    "BBQ_id = -1\n",
    "for i in data['cuisines']:\n",
    "    if i['cuisine']['cuisine_name'] == 'BBQ':\n",
    "        BBQ_id = i['cuisine']['cuisine_id']\n",
    "        break\n",
    "\n",
    "r = requests.get(\"https://developers.zomato.com/api/v2.1/search\",\n",
    "                 headers = {'user-key':'1087ca5bc88feff8d2df939a532bb8f0'},\n",
    "params = {'lat' :'28.697665','lon' : '77.140634','cuisines' : 193,'sort' : 'real_distance',\n",
    "          'order' : 'desc','count' : 10})\n",
    "data = r.json()\n",
    "#print(r.url)\n",
    "#print(r.status_code)\n",
    "#print(data)\n",
    "for i in data['restaurants']:\n",
    "    print(i['restaurant']['name'],i['restaurant']['user_rating']['aggregate_rating'],\n",
    "          i['restaurant']['id'],i['restaurant']['location']['locality'])"
   ]
  },
  {
   "cell_type": "code",
   "execution_count": 12,
   "metadata": {},
   "outputs": [
    {
     "name": "stdout",
     "output_type": "stream",
     "text": [
      "Shikha Kapil Dabodia 5 \n",
      "Pooja Nagpal 5 \n",
      "Daisy 3 They served you the best varieties of barbeque snacks and unlimited buffet..but they didn't told the customers about their prices..like on they have different prices for weekdays and for weekends..and they said dine free on your birthday and on anniversary..dude what was free I wonder..just a mini cake? I want to write more but that's ok..\n",
      "MILAN KHARE 5 Yesterday i went to this restaurant with my friend for buffet as we have to plan something regarding our business. Firstly interior was brilliant and staff was very friendly. They treated us well. Secondly food was very delicious and yummy. There was also live screening and they have beautiful open terrace. BUFFET INCLUDE some starters like paneer tikka, pineapples tikka, mushroom, crispy corn, cheese pizza, momos and some more dishes. I really liked the starters. Then in main course i have dal makhani, kadai paneer and some stuff naan. All were very tasty and made my day. Love to visit this place again.  Food:5/5 Ambience:5/5 Service:5/5 Overall experience-5/5\n",
      "Laxmi Shivhare 5 Love the food....🥰🥰🥰 And staff was superbly nice specially the one Bhanu.. must visit it's worth ...\n"
     ]
    }
   ],
   "source": [
    "'''Fetch the latest review of the restaurant serving cuisine ‘BBQ’ which is most nearest to Coding ninjas?\n",
    "Print the name of user ,user rating and review text.\n",
    "Note :\n",
    "Due to limitation of basic API plan it, can only fetch 5 latest review'''\n",
    "## Open and read data file as specified in the question\n",
    "## Print the required output in given format\n",
    "import requests\n",
    "import json\n",
    "\n",
    "r = requests.get(\"https://developers.zomato.com/api/v2.1/cuisines\",\n",
    "headers = {'user-key':'1087ca5bc88feff8d2df939a532bb8f0'},params = {'lat' :'28.697665','lon' : '77.140634'})\n",
    "data = r.json()\n",
    "#print(data)\n",
    "BBQ_id = -1\n",
    "for i in data['cuisines']:\n",
    "    if i['cuisine']['cuisine_name'] == 'BBQ':\n",
    "        BBQ_id = i['cuisine']['cuisine_id']\n",
    "        break\n",
    "\n",
    "r = requests.get(\"https://developers.zomato.com/api/v2.1/search\",\n",
    "headers = {'user-key':'1087ca5bc88feff8d2df939a532bb8f0'},\n",
    "params = {'lat' :'28.697665','lon' : '77.140634','cuisines' : 193,'sort' : 'real_distance','order' : 'desc',\n",
    "          'count' : 5})\n",
    "data = r.json()\n",
    "#print(r.url)\n",
    "#print(r.status_code)\n",
    "#print(data)\n",
    "res_id = 0\n",
    "for i in data['restaurants']:\n",
    "    res_id = i['restaurant']['R']['res_id']\n",
    "    break\n",
    "#print(res_id)    \n",
    "r = requests.get(\"https://developers.zomato.com/api/v2.1/reviews\",headers = {'user-key':'1087ca5bc88feff8d2df939a532bb8f0'},\n",
    "params = {'res_id' : res_id,'count' : 5,'start' : 0})\n",
    "data = r.json()\n",
    "for i in data['user_reviews']:\n",
    "    print(i['review']['user']['name'],i['review']['rating'],i['review']['review_text'])\n",
    "                 "
   ]
  },
  {
   "cell_type": "code",
   "execution_count": 13,
   "metadata": {},
   "outputs": [
    {
     "name": "stdout",
     "output_type": "stream",
     "text": [
      "Indian Accent 4.9 2004 The Lodhi, Lodhi Road\n",
      "The Yellow Chilli 4.9 1345 Pacific Mall, Sahibabad\n",
      "House Of Wok 4.9 19156033 Vasant Kunj\n",
      "Fat Albert 4.9 19121180 Sector 12, Dwarka\n",
      "Rosy's Kitchen 4.9 19190008 Preet Vihar\n",
      "Hauz Khas Social 4.7 308322 Hauz Khas Village\n",
      "Ah So Yum 4.8 18945610 Golf Course Road\n",
      "SashMicks Bakery 4.8 18596159 Indirapuram Habitat Centre, Indirapuram\n",
      "Blackmail 4.8 18903959 Kamla Nagar\n",
      "Oishii Wok 4.8 19078918 DLF Phase 4\n"
     ]
    }
   ],
   "source": [
    "'''Experiment with the radius parameter that is present in ‘GET/search’. Fetch the list of top 10 best-restaurant present in a radius of 4 km of coding ninjas.\n",
    "Print the restaurant name, user rating, restaurant id and locality in which restaurant is present.'''\n",
    "## Open and read data file as specified in the question\n",
    "## Print the required output in given format\n",
    "import requests\n",
    "import json\n",
    "r = requests.get(\"https://developers.zomato.com/api/v2.1/search\",headers = {'user-key':'1087ca5bc88feff8d2df939a532bb8f0'},\n",
    "params = {'lat' : '28.6975','lon' : '77.1406','radius' : '4000','sort' : 'rating','order' : 'desc','count' : 10})\n",
    "data = r.json()\n",
    "#print(r.url)\n",
    "#print(r.status_code)\n",
    "for i in data['restaurants']:\n",
    "    print(i['restaurant']['name'],i['restaurant']['user_rating']['aggregate_rating'],i['restaurant']['id'],i['restaurant']['location']['locality'])"
   ]
  },
  {
   "cell_type": "code",
   "execution_count": null,
   "metadata": {},
   "outputs": [],
   "source": [
    "'''Compare the location of the restaurant whether really they are in a distance of 4 km to Coding Ninjas. Find out whether these API radius feature is working or not.\n",
    "Print 'yes' if radius feature work else print 'no'.\n",
    "Note :\n",
    "Use google search to find whether restaurant lie in range of 4km or not.'''\n",
    "print('no')"
   ]
  },
  {
   "cell_type": "code",
   "execution_count": null,
   "metadata": {},
   "outputs": [],
   "source": []
  }
 ],
 "metadata": {
  "kernelspec": {
   "display_name": "Python 3",
   "language": "python",
   "name": "python3"
  },
  "language_info": {
   "codemirror_mode": {
    "name": "ipython",
    "version": 3
   },
   "file_extension": ".py",
   "mimetype": "text/x-python",
   "name": "python",
   "nbconvert_exporter": "python",
   "pygments_lexer": "ipython3",
   "version": "3.7.1"
  }
 },
 "nbformat": 4,
 "nbformat_minor": 2
}
